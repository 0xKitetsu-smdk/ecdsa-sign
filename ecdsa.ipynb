{
 "cells": [
  {
   "cell_type": "code",
   "execution_count": 16,
   "metadata": {},
   "outputs": [],
   "source": [
    "from Crypto.Hash import keccak"
   ]
  },
  {
   "cell_type": "code",
   "execution_count": 18,
   "metadata": {},
   "outputs": [],
   "source": [
    "# Pcurve = 115792089237316195423570985008687907853269984665640564039457584007908834671663\n",
    "N = 115792089237316195423570985008687907852837564279074904382605163141518161494337\n",
    "# Ac = 0\n",
    "# Bc = 7\n",
    "Gx = 55066263022277343669578718895168534326250603453777594175500187360389116729240\n",
    "Gy = 32670510020758816978083085130507043184471273380659243275938904335757337482424"
   ]
  },
  {
   "cell_type": "code",
   "execution_count": 20,
   "metadata": {},
   "outputs": [],
   "source": [
    "def egcd(a, b):\n",
    "     if a == 0:\n",
    "          return (b, 0, 1)\n",
    "     else:\n",
    "          g, y, x = egcd(b % a, a)\n",
    "          return (g, x - (b // a) * y, y)\n",
    "def modinv(a, m):\n",
    "    g, x, y = egcd(a, m)\n",
    "    if g != 1:\n",
    "        raise Exemption('modular inverse does not exist')\n",
    "    else:\n",
    "        return x % m"
   ]
  },
  {
   "cell_type": "code",
   "execution_count": 21,
   "metadata": {},
   "outputs": [],
   "source": [
    "from fastecdsa.curve import Curve\n",
    "from fastecdsa.point import Point\n",
    "from fastecdsa.curve import secp256k1"
   ]
  },
  {
   "cell_type": "code",
   "execution_count": 24,
   "metadata": {},
   "outputs": [
    {
     "data": {
      "text/plain": [
       "'0xad96fdb825e1cf5f41c712b42a0af7faa11ed7e6e2b8d37bfa10fc9df40adb27'"
      ]
     },
     "execution_count": 24,
     "metadata": {},
     "output_type": "execute_result"
    }
   ],
   "source": [
    "msgHash = '0x' + keccak.new(data=b'This is the right message', digest_bits=256).hexdigest()\n",
    "msgHash"
   ]
  },
  {
   "cell_type": "code",
   "execution_count": 25,
   "metadata": {},
   "outputs": [
    {
     "data": {
      "text/plain": [
       "X: 0x79be667ef9dcbbac55a06295ce870b07029bfcdb2dce28d959f2815b16f81798\n",
       "Y: 0x483ada7726a3c4655da4fbfc0e1108a8fd17b448a68554199c47d08ffb10d4b8\n",
       "(On curve <secp256k1>)"
      ]
     },
     "execution_count": 25,
     "metadata": {},
     "output_type": "execute_result"
    }
   ],
   "source": [
    "GenPoint = Point(Gx, Gy, curve=secp256k1)\n",
    "GenPoint"
   ]
  },
  {
   "cell_type": "code",
   "execution_count": 39,
   "metadata": {},
   "outputs": [
    {
     "data": {
      "text/plain": [
       "(X: 0x79be667ef9dcbbac55a06295ce870b07029bfcdb2dce28d959f2815b16f81798\n",
       " Y: 0x483ada7726a3c4655da4fbfc0e1108a8fd17b448a68554199c47d08ffb10d4b8\n",
       " (On curve <secp256k1>),\n",
       " '0x7e5f4552091a69125d5dfcb7b8c2659029395bdf')"
      ]
     },
     "execution_count": 39,
     "metadata": {},
     "output_type": "execute_result"
    }
   ],
   "source": [
    "sk = 1\n",
    "vk = sk * GenPoint\n",
    "concat_x_y = vk.x.to_bytes(32, byteorder='big') + vk.y.to_bytes(32, byteorder='big')\n",
    "eth_addr = '0x' + keccak.new(data=concat_x_y,digest_bits=256).hexdigest()[-40:]\n",
    "vk,eth_addr"
   ]
  },
  {
   "cell_type": "code",
   "execution_count": 79,
   "metadata": {},
   "outputs": [
    {
     "data": {
      "text/plain": [
       "(86918276961810349294276103416548851884759982251107,\n",
       " '0x3b78ce563f89a0ed9414f5aa28ad0d96d6795f9c63')"
      ]
     },
     "execution_count": 79,
     "metadata": {},
     "output_type": "execute_result"
    }
   ],
   "source": [
    "# k - random number\n",
    "k = 57896044618658097711785492504343953926418782139537452191302581570759080747168 \n",
    "XY1 = k * GenPoint\n",
    "r = XY1.x % N\n",
    "r,hex(r)"
   ]
  },
  {
   "cell_type": "code",
   "execution_count": 87,
   "metadata": {},
   "outputs": [
    {
     "data": {
      "text/plain": [
       "(74550376532497960319987689016107003538808148289652349321148441990401445226647,\n",
       " '0x3b78ce563f89a0ed9414f5aa28ad0d96d6795f9c63')"
      ]
     },
     "execution_count": 87,
     "metadata": {},
     "output_type": "execute_result"
    }
   ],
   "source": [
    "s = (r*sk +int(msgHash,16) * modinv(randNum, N)) % N\n",
    "s,hex(r)"
   ]
  },
  {
   "cell_type": "code",
   "execution_count": 56,
   "metadata": {},
   "outputs": [
    {
     "data": {
      "text/plain": [
       "96607528561791114397410154718273082025351791959240141029563991069288357310448"
      ]
     },
     "execution_count": 56,
     "metadata": {},
     "output_type": "execute_result"
    }
   ],
   "source": [
    "(GenPoint * 86918276961810349294276103416548851884759982251107 ).x % N"
   ]
  },
  {
   "cell_type": "code",
   "execution_count": 70,
   "metadata": {},
   "outputs": [
    {
     "data": {
      "text/plain": [
       "('0x00000000000000000000003b78ce563f89a0ed9414f5aa28ad0d96d6795f9c63', True)"
      ]
     },
     "execution_count": 70,
     "metadata": {},
     "output_type": "execute_result"
    }
   ],
   "source": [
    "t1 = \"0x00000000000000000000003b78ce563f89a0ed9414f5aa28ad0d96d6795f9c63\"\n",
    "t1,int(t1,16) < 1 << 184"
   ]
  },
  {
   "cell_type": "code",
   "execution_count": 80,
   "metadata": {},
   "outputs": [
    {
     "data": {
      "text/plain": [
       "(57896044618658097711785492504343953926418782139537452191302581570759080747168,\n",
       " 20424028159692373724824543148434849767490285433474831060123348660748504071752,\n",
       " 86918276961810349294276103416548851884759982251107,\n",
       " 1)"
      ]
     },
     "execution_count": 80,
     "metadata": {},
     "output_type": "execute_result"
    }
   ],
   "source": [
    "# s = int(\"0x6000808080806ea4c4466c164f2cc5b89a3f835803385afa3d82803e3d82f300\",16)\n",
    "# h = int(\"0x31ab0b330c1bfdce8faea20986848d121c4bddc7de5e7c40382d697dd73f3e05\",16)\n",
    "k = 57896044618658097711785492504343953926418782139537452191302581570759080747168\n",
    "r = int(\"0x00000000000000000000003b78ce563f89a0ed9414f5aa28ad0d96d6795f9c63\",16)\n",
    "s = 20424028159692373724824543148434849767490285433474831060123348660748504071752\n",
    "SK = 1\n",
    "k,s,r,SK"
   ]
  },
  {
   "cell_type": "code",
   "execution_count": 89,
   "metadata": {},
   "outputs": [
    {
     "data": {
      "text/plain": [
       "20620856352409117551791647909372175195204358700435174114179508690798375882738"
      ]
     },
     "execution_count": 89,
     "metadata": {},
     "output_type": "execute_result"
    }
   ],
   "source": [
    "# calculating h // hash(msg)\n",
    "k * s % N - r * SK % N"
   ]
  },
  {
   "cell_type": "code",
   "execution_count": null,
   "metadata": {},
   "outputs": [],
   "source": []
  }
 ],
 "metadata": {
  "kernelspec": {
   "display_name": "Python 3",
   "language": "python",
   "name": "python3"
  },
  "language_info": {
   "codemirror_mode": {
    "name": "ipython",
    "version": 3
   },
   "file_extension": ".py",
   "mimetype": "text/x-python",
   "name": "python",
   "nbconvert_exporter": "python",
   "pygments_lexer": "ipython3",
   "version": "3.10.6"
  },
  "orig_nbformat": 4
 },
 "nbformat": 4,
 "nbformat_minor": 2
}
